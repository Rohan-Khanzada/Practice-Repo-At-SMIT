{
 "cells": [
  {
   "cell_type": "markdown",
   "id": "555419a9-306a-4ea8-b215-56f0a556cc1b",
   "metadata": {},
   "source": [
    "##### Part -1 Python Basics (Variables)\n",
    "1-Print Your Name with your Father name and Date of birth using suitable escape sequence character?"
   ]
  },
  {
   "cell_type": "code",
   "execution_count": 7,
   "id": "340b06fa-b10f-4768-9e90-4c5db1df871d",
   "metadata": {},
   "outputs": [
    {
     "name": "stdout",
     "output_type": "stream",
     "text": [
      "Name:\t\t Rohan\n",
      "Father's Name:\t Abdul Naeem\n",
      "Date of Birth:\t 04-10-2000\n"
     ]
    }
   ],
   "source": [
    "name = \"Rohan\" # String\n",
    "father_name = \"Abdul Naeem\"\n",
    "dob = \"04-10-2000\"\n",
    "print(\"Name:\\t\\t\", name)\n",
    "print(\"Father's Name:\\t\", father_name)\n",
    "print(\"Date of Birth:\\t\", dob)"
   ]
  },
  {
   "cell_type": "markdown",
   "id": "391349b1-e57f-47a9-98cf-e71d26f90d4e",
   "metadata": {},
   "source": [
    "###### 2-Write your small bio using variables and print it using print function?on?\n"
   ]
  },
  {
   "cell_type": "code",
   "execution_count": 13,
   "id": "b8ec2358-870f-441d-945e-5dd95b3a0469",
   "metadata": {},
   "outputs": [
    {
     "name": "stdout",
     "output_type": "stream",
     "text": [
      "My Name is: Rohan\n",
      "My age is: 30\n",
      "My Occupation is: Accountant\n",
      "My interest in: explore new Technologies like AI\n"
     ]
    }
   ],
   "source": [
    "name = \"Rohan\"\n",
    "age = \"30\"\n",
    "occupation = \"Accountant\"\n",
    "interest = \"explore new Technologies like AI\"\n",
    "print(\"My Name is:\",name)\n",
    "print(\"My age is:\", age)\n",
    "print(\"My Occupation is:\",occupation)\n",
    "print(\"My interest in:\",interest)"
   ]
  },
  {
   "cell_type": "markdown",
   "id": "632e69f2-3569-4197-8801-b72cd2fb6cc7",
   "metadata": {},
   "source": [
    "##### 3- Write a program in which use all the operators we can use in Python?\n"
   ]
  },
  {
   "cell_type": "code",
   "execution_count": 14,
   "id": "ecbdf44f-6898-4ecf-84fb-4396a090b5ea",
   "metadata": {},
   "outputs": [
    {
     "name": "stdout",
     "output_type": "stream",
     "text": [
      "Arithmetic Operators:\n",
      "a + b = 13\n",
      "a - b = 7\n",
      "a * b = 30\n",
      "a / b = 3.3333333333333335\n",
      "a // b = 3\n",
      "a % b = 1\n",
      "a ** b = 1000\n",
      "\n"
     ]
    }
   ],
   "source": [
    "# Arithmetic Operators\n",
    "a = 10\n",
    "b = 3\n",
    "\n",
    "print(\"Arithmetic Operators:\")\n",
    "print(\"a + b =\", a + b)  # Addition\n",
    "print(\"a - b =\", a - b)  # Subtraction\n",
    "print(\"a * b =\", a * b)  # Multiplication\n",
    "print(\"a / b =\", a / b)  # Division\n",
    "print(\"a // b =\", a // b)  # Floor Division\n",
    "print(\"a % b =\", a % b)  # Modulus\n",
    "print(\"a ** b =\", a ** b)  # Exponentiation\n",
    "print()"
   ]
  },
  {
   "cell_type": "code",
   "execution_count": 16,
   "id": "4c3dd6f3-4c6a-48d0-8eea-c3656ab1ebf3",
   "metadata": {},
   "outputs": [
    {
     "name": "stdout",
     "output_type": "stream",
     "text": [
      "Comparison Operators:\n",
      "x == y is False\n",
      "x != y is True\n",
      "x > y is False\n",
      "x < y is True\n",
      "x >= y is False\n",
      "x <= y is True\n",
      "\n"
     ]
    }
   ],
   "source": [
    "# Comparison Operators\n",
    "x = 5\n",
    "y = 7\n",
    "\n",
    "print(\"Comparison Operators:\")\n",
    "print(\"x == y is\", x == y)  # Equal to\n",
    "print(\"x != y is\", x != y)  # Not equal to\n",
    "print(\"x > y is\", x > y)    # Greater than\n",
    "print(\"x < y is\", x < y)    # Less than\n",
    "print(\"x >= y is\", x >= y)  # Greater than or equal to\n",
    "print(\"x <= y is\", x <= y)  # Less than or equal to\n",
    "print()\n"
   ]
  },
  {
   "cell_type": "code",
   "execution_count": 2,
   "id": "154a2ae1-8022-43c1-a280-f2ac04bfe975",
   "metadata": {},
   "outputs": [
    {
     "name": "stdout",
     "output_type": "stream",
     "text": [
      "Logical Operators:\n",
      "p and q is False\n",
      "p or q is True\n"
     ]
    }
   ],
   "source": [
    "# Logical Operators\n",
    "p = True\n",
    "q = False\n",
    "\n",
    "print(\"Logical Operators:\")\n",
    "print(\"p and q is\", p and q)  # Logical AND\n",
    "print(\"p or q is\", p or q)    # Logical OR"
   ]
  },
  {
   "cell_type": "code",
   "execution_count": 19,
   "id": "ce1fa134-aeae-495b-9b56-9891c8155d14",
   "metadata": {},
   "outputs": [
    {
     "name": "stdout",
     "output_type": "stream",
     "text": [
      "Assignment Operators:\n",
      "num = 15\n",
      "\n"
     ]
    }
   ],
   "source": [
    "# Assignment Operators\n",
    "num = 10\n",
    "num += 5    # num = num + 5\n",
    "print(\"Assignment Operators:\")\n",
    "print(\"num =\", num)\n",
    "print()"
   ]
  },
  {
   "cell_type": "code",
   "execution_count": 5,
   "id": "c912aaa4-81f3-4943-9932-10101f56e593",
   "metadata": {},
   "outputs": [
    {
     "name": "stdout",
     "output_type": "stream",
     "text": [
      "String Concatenation:\n",
      "str1 + str2 = HelloWorld\n"
     ]
    }
   ],
   "source": [
    "# String Concatenation\n",
    "str1 = \"Hello\"\n",
    "str2 = \"World\"\n",
    "print(\"String Concatenation:\")\n",
    "print(\"str1 + str2 =\", str1  + str2)\n"
   ]
  },
  {
   "cell_type": "markdown",
   "id": "de144f97-c44a-436d-9e37-d5fe90e96da5",
   "metadata": {},
   "source": [
    "##### 4-Complete the following steps of small task:\r\n",
    "Mention Marks of English , Islamiat and Maths out of 100 in 3 different variables\r\n",
    "Mention Variable of Total Marks and assign 300 to it\r\n",
    "Calculate Pecen?t?age\r\n"
   ]
  },
  {
   "cell_type": "code",
   "execution_count": 1,
   "id": "4b539394-693e-4f44-a18d-878382db94c5",
   "metadata": {},
   "outputs": [
    {
     "name": "stdin",
     "output_type": "stream",
     "text": [
      "Enter your English Marks: 75\n",
      "Enter your Islamiat Marks: 78\n",
      "Enter your Math Marks: 98\n",
      "Enter Total Marks: 300\n"
     ]
    },
    {
     "name": "stdout",
     "output_type": "stream",
     "text": [
      "Total Percentge is: 83.66666666666667\n"
     ]
    }
   ],
   "source": [
    "english_marks = float(input(\"Enter your English Marks:\"))\n",
    "islamiat_marks = float(input(\"Enter your Islamiat Marks:\"))\n",
    "math_marks = float(input(\"Enter your Math Marks:\"))\n",
    "obtain_marks = (english_marks + islamiat_marks + math_marks)\n",
    "total_marks = int(input(\"Enter Total Marks:\"))\n",
    "percentage = print(\"Total Percentge is:\",(obtain_marks/total_marks)*100)\n"
   ]
  },
  {
   "cell_type": "code",
   "execution_count": 6,
   "id": "29f799b9-ccc5-4743-acd0-af61df844d3c",
   "metadata": {},
   "outputs": [
    {
     "name": "stdout",
     "output_type": "stream",
     "text": [
      "Total Percentge is: 98.0\n"
     ]
    }
   ],
   "source": [
    "# without input\n",
    "english_marks = 98\n",
    "islamiat_marks = 98 \n",
    "math_marks = 98\n",
    "obtain_marks = (english_marks + islamiat_marks + math_marks)\n",
    "total_marks = 300\n",
    "percentage = print(\"Total Percentge is:\",(obtain_marks/total_marks)*100)\n"
   ]
  },
  {
   "cell_type": "markdown",
   "id": "84500c46-1cfe-4bf3-96ca-0bc3cf771307",
   "metadata": {},
   "source": [
    "##### Part -2 Python Basics (Conditional Statements)\r\n"
   ]
  },
  {
   "cell_type": "code",
   "execution_count": 5,
   "id": "e728a379-af1b-4654-b126-347e98d7172b",
   "metadata": {},
   "outputs": [],
   "source": [
    "#1 -A company decided to give bonus of 5% to employee if his/her year of service is more than 5 years.\n",
    "#Ask user for their salary and year of service and print the net bonus amount?"
   ]
  },
  {
   "cell_type": "code",
   "execution_count": 8,
   "id": "ad3b6bc0-35e6-4d6e-9039-c1d670b1f2b2",
   "metadata": {},
   "outputs": [
    {
     "name": "stdin",
     "output_type": "stream",
     "text": [
      "Enter Amount of Salary: 1000000\n",
      "Enter Period of Service: 9\n"
     ]
    },
    {
     "name": "stdout",
     "output_type": "stream",
     "text": [
      "YOUR NET BONUS IS: 50000.0\n"
     ]
    }
   ],
   "source": [
    "salary = float(input(\"Enter Amount of Salary:\"))\n",
    "service = float(input(\"Enter Period of Service:\"))\n",
    "if service > 5:\n",
    "    bonus = 0.05 * salary\n",
    "    print(\"YOUR NET BONUS IS:\",bonus)\n",
    "else:\n",
    "    print(\"YOU DON'T HAVE SUFFICENT SERVICE\")\n"
   ]
  },
  {
   "cell_type": "code",
   "execution_count": 9,
   "id": "9e20fbf3-ab7c-4ebe-a8df-5f987db2522c",
   "metadata": {},
   "outputs": [],
   "source": [
    "# 2- Write a program to check whether a person is eligible for voting or not. (accept age from user) \n",
    "#if age is greater than 17 eligible otherwise not eligible\n"
   ]
  },
  {
   "cell_type": "code",
   "execution_count": 10,
   "id": "fc00cf45-1b51-4093-aacc-653fa3da7eee",
   "metadata": {},
   "outputs": [
    {
     "name": "stdin",
     "output_type": "stream",
     "text": [
      "Please Enter your Age: 55\n"
     ]
    },
    {
     "name": "stdout",
     "output_type": "stream",
     "text": [
      "YOU ARE ELIGIBLE FOR VOTING\n"
     ]
    }
   ],
   "source": [
    "age = float(input(\"Please Enter your Age:\"))\n",
    "if age > 17:\n",
    "    print(\"YOU ARE ELIGIBLE FOR VOTING\")\n",
    "else:\n",
    "    print(\"YOU ARE NOT ELIGIBLE FOR VOTING\")"
   ]
  },
  {
   "cell_type": "code",
   "execution_count": 12,
   "id": "fbddb5a5-4180-4274-a442-80a935c369e8",
   "metadata": {},
   "outputs": [],
   "source": [
    "# 3-Write a program to check whether a number entered by user is even or odd.\n"
   ]
  },
  {
   "cell_type": "code",
   "execution_count": 11,
   "id": "84dc5450-a68c-4e75-907a-80d986166dd7",
   "metadata": {},
   "outputs": [
    {
     "name": "stdin",
     "output_type": "stream",
     "text": [
      "ENTER THE NUMBER 5\n"
     ]
    },
    {
     "name": "stdout",
     "output_type": "stream",
     "text": [
      "IT IS A ODD NUMBER\n"
     ]
    }
   ],
   "source": [
    "number = int(input(\"ENTER THE NUMBER\"))\n",
    "if number % 2 == 0:\n",
    "    print(\" IT IS A EVEN NUMBER\")\n",
    "else:\n",
    "    print(\"IT IS A ODD NUMBER\")"
   ]
  },
  {
   "cell_type": "code",
   "execution_count": 17,
   "id": "b798818a-c42d-4c39-bb3c-dbff995d3545",
   "metadata": {},
   "outputs": [],
   "source": [
    "# 4-Write a program to check whether a number is divisible by 7 or not. Show Answer?\n"
   ]
  },
  {
   "cell_type": "code",
   "execution_count": 21,
   "id": "9bce295f-d0b3-4d6a-81f0-fd1c28fa3e82",
   "metadata": {},
   "outputs": [
    {
     "name": "stdin",
     "output_type": "stream",
     "text": [
      "ENTER THE NUMBER 34\n"
     ]
    },
    {
     "name": "stdout",
     "output_type": "stream",
     "text": [
      " IT IS NOT DIVISIBLE BY 7\n"
     ]
    }
   ],
   "source": [
    "number = int(input(\"ENTER THE NUMBER\"))\n",
    "if number % 7== 0:\n",
    "    print(\" IT IS DIVISIBLE BY 7\")\n",
    "else:\n",
    "    print(\" IT IS NOT DIVISIBLE BY 7\")\n"
   ]
  },
  {
   "cell_type": "code",
   "execution_count": 25,
   "id": "c41b53cb-a464-482f-a6b1-6317ccb8cfb0",
   "metadata": {},
   "outputs": [],
   "source": [
    "# 5- Write a program to display \"Hello\" if a number entered by user is a multiple of five , otherwise print \"Bye\".\n"
   ]
  },
  {
   "cell_type": "code",
   "execution_count": 28,
   "id": "dd8cb313-d594-42b2-aecc-258e366e513d",
   "metadata": {},
   "outputs": [
    {
     "name": "stdin",
     "output_type": "stream",
     "text": [
      "ENTER THE NUMBER 25\n"
     ]
    },
    {
     "name": "stdout",
     "output_type": "stream",
     "text": [
      " Hello\n"
     ]
    }
   ],
   "source": [
    "number = int(input(\"ENTER THE NUMBER\"))\n",
    "if number % 5== 0:\n",
    "    print(\" Hello\")\n",
    "else:\n",
    "    print(\"Bye\")\n"
   ]
  },
  {
   "cell_type": "code",
   "execution_count": 29,
   "id": "87a52bfc-3321-44bf-9d41-7cd14e24830e",
   "metadata": {},
   "outputs": [],
   "source": [
    "# 7-Write a program to display the last digit of a number.\n"
   ]
  },
  {
   "cell_type": "code",
   "execution_count": 31,
   "id": "304cb324-0ba7-4e18-8979-5e6bf218e988",
   "metadata": {},
   "outputs": [
    {
     "name": "stdin",
     "output_type": "stream",
     "text": [
      "ENTER THE NUMBER 555555558888897412366\n"
     ]
    },
    {
     "name": "stdout",
     "output_type": "stream",
     "text": [
      "LAST DIGIT IF NUMBER IS: 6\n"
     ]
    }
   ],
   "source": [
    "number = int(input(\"ENTER THE NUMBER\"))\n",
    "last_digit = number % 10\n",
    "print(\"LAST DIGIT IF NUMBER IS:\",last_digit)"
   ]
  },
  {
   "cell_type": "code",
   "execution_count": 32,
   "id": "5a23b10e-040a-43e9-b669-7e3a8192c3a1",
   "metadata": {},
   "outputs": [],
   "source": [
    "# 9- Take values of length and breadth of a rectangle from user and print if it is square or rectangle.\n"
   ]
  },
  {
   "cell_type": "code",
   "execution_count": 35,
   "id": "b1203df0-6a6b-42e0-9cdf-628bbb072c60",
   "metadata": {},
   "outputs": [
    {
     "name": "stdin",
     "output_type": "stream",
     "text": [
      "ENTER THE length 5\n",
      "ENTER THE Breadth 5\n"
     ]
    },
    {
     "name": "stdout",
     "output_type": "stream",
     "text": [
      " IT IS A SQUARE\n"
     ]
    }
   ],
   "source": [
    "length = float(input(\"ENTER THE length\"))\n",
    "breadth = float(input(\"ENTER THE Breadth\"))\n",
    "if length == breadth:\n",
    "    print(\" IT IS A SQUARE\")\n",
    "else:\n",
    "    print(\"IT IS A RECTANGLE\")\n"
   ]
  },
  {
   "cell_type": "code",
   "execution_count": 36,
   "id": "6dee00fc-85c4-45d4-98fd-825f1e9f7509",
   "metadata": {},
   "outputs": [],
   "source": [
    "# 10-Take two int values from user and print greatest among them.\n"
   ]
  },
  {
   "cell_type": "code",
   "execution_count": 39,
   "id": "5ccef046-244c-4630-b3cd-13212f378ac9",
   "metadata": {},
   "outputs": [
    {
     "name": "stdin",
     "output_type": "stream",
     "text": [
      "ENTER THE NUMBER 1 56\n",
      "ENTER THE NUMBER 2 65\n"
     ]
    },
    {
     "name": "stdout",
     "output_type": "stream",
     "text": [
      "THE GREATEST NUMBER IS: 65.0\n"
     ]
    }
   ],
   "source": [
    "number1 = float(input(\"ENTER THE NUMBER 1\"))\n",
    "number2 = float(input(\"ENTER THE NUMBER 2\"))\n",
    "greatest = max(number1,number2)\n",
    "print(\"THE GREATEST NUMBER IS:\", greatest)"
   ]
  },
  {
   "cell_type": "code",
   "execution_count": 40,
   "id": "b1d034fc-a615-43ce-8a39-80b36d77652a",
   "metadata": {},
   "outputs": [],
   "source": [
    "# 11-A shop will give discount of 10% if the cost of purchased quantity is more than 1000. \n",
    "#Ask user for quantity Suppose, one unit will cost 100. Judge and print total cost for user.\n"
   ]
  },
  {
   "cell_type": "code",
   "execution_count": 49,
   "id": "2045991b-8f45-471d-b312-e4c8226655d9",
   "metadata": {},
   "outputs": [
    {
     "name": "stdin",
     "output_type": "stream",
     "text": [
      "Please Enter The Quantity Of Unit:  45\n"
     ]
    },
    {
     "name": "stdout",
     "output_type": "stream",
     "text": [
      "TOTAL COST IS: 4500\n",
      "THE TOTAL DISCOUNT YOU GET: 450.0\n",
      "THE NET AMOUNT IS: 4050.0\n"
     ]
    }
   ],
   "source": [
    "unit = 100\n",
    "quantity = int(input(\"Please Enter The Quantity Of Unit: \"))\n",
    "total_cost = unit*quantity\n",
    "print(\"TOTAL COST IS:\",total_cost)\n",
    "if total_cost > 1000:\n",
    "    discount = total_cost * 0.10\n",
    "    print(\"THE TOTAL DISCOUNT YOU GET:\", discount)\n",
    "    net_cost = total_cost - discount\n",
    "    print(\"THE NET AMOUNT IS:\", net_cost)\n",
    "else:\n",
    "    print(\"THE TOTAL COST OF UNITS IS:\",total_cost)\n"
   ]
  },
  {
   "cell_type": "code",
   "execution_count": 52,
   "id": "8e0551f8-dcf1-4596-8cae-32fb9cb70b20",
   "metadata": {},
   "outputs": [],
   "source": [
    "# 12- A school has following rules for grading system:\n",
    "#a. Below 25 - F\n",
    "\n",
    "#b. 25 to 45 - E\n",
    "\n",
    "#c. 45 to 50 - D\n",
    "\n",
    "#d. 50 to 60 - C\n",
    "\n",
    "#e. 60 to 80 - B\n",
    "\n",
    "#f. Above 80 - A\n",
    "\n",
    "#Ask user to enter marks and print the corresponding grade"
   ]
  },
  {
   "cell_type": "code",
   "execution_count": 15,
   "id": "7fa8d053-7241-421c-9d50-86c567f285a7",
   "metadata": {},
   "outputs": [
    {
     "name": "stdin",
     "output_type": "stream",
     "text": [
      "Enter your marks:  98\n"
     ]
    },
    {
     "name": "stdout",
     "output_type": "stream",
     "text": [
      "YOUR GRADE IS: A\n"
     ]
    }
   ],
   "source": [
    "marks = float(input(\"Enter your marks: \"))\n",
    "if marks > 80:\n",
    "    grade = \"A\"\n",
    "elif marks <=80 and marks >60:\n",
    "    grade = \"B\"\n",
    "elif marks <=60 and marks >50:\n",
    "    grade = \"C\"\n",
    "elif marks <=50 and marks >45:\n",
    "    grade = \"D\"\n",
    "elif marks <=45 and marks >25:\n",
    "    grade = \"E\"\n",
    "else:\n",
    "    grade = \"F\"\n",
    "print(\"YOUR GRADE IS:\", grade)\n"
   ]
  },
  {
   "cell_type": "code",
   "execution_count": 6,
   "id": "56fc737d-db34-4ba8-9564-302c82488eb8",
   "metadata": {},
   "outputs": [],
   "source": [
    "# 14)- A student will not be allowed to sit in exam if his/her attendence is less than 75%.?\n",
    "# Take following input from user\n",
    "#Number of classes held\n",
    "#Number of classes attended.\n",
    "#And print\n",
    "#percentage of class attended\n",
    "#Is student is allowed to sit in exam or not."
   ]
  },
  {
   "cell_type": "code",
   "execution_count": 18,
   "id": "ee2da3ea-d2d1-4dd5-97f2-9a88d993d064",
   "metadata": {},
   "outputs": [
    {
     "name": "stdin",
     "output_type": "stream",
     "text": [
      "Please Enter The Number Of Classes Held: 100\n",
      "Please Enter The Number Of Classes attendended: 65\n"
     ]
    },
    {
     "name": "stdout",
     "output_type": "stream",
     "text": [
      "Percentage of Attendance: 65.0\n",
      "Student Is Not Allowed To Sit In Exam\n"
     ]
    }
   ],
   "source": [
    "classes_held = int(input(\"Please Enter The Number Of Classes Held:\" ))\n",
    "classes_attended = int(input( \"Please Enter The Number Of Classes attendended:\"))\n",
    "percentage_of_attenden_classes = (classes_attended/classes_held)*100\n",
    "print(\"Percentage of Attendance:\",percentage_of_attenden_classes)\n",
    "if percentage_of_attenden_classes >= 75:\n",
    "    print(\"Student is allowed to sit in exam\")\n",
    "else:\n",
    "    print(\"Student Is Not Allowed To Sit In Exam\")\n"
   ]
  },
  {
   "cell_type": "code",
   "execution_count": 16,
   "id": "8fa1ba79-93b5-4291-a4e7-d014aa2e28a6",
   "metadata": {},
   "outputs": [],
   "source": [
    "# 15- Modify the above question to allow student to sit if he/she has medical cause.\n",
    "#Ask user if he/she has medical cause or not ( 'Y' or 'N' ) and print accordingly."
   ]
  },
  {
   "cell_type": "code",
   "execution_count": 29,
   "id": "b7fcdcaf-e376-4e47-8b53-0d29f71ac675",
   "metadata": {},
   "outputs": [
    {
     "name": "stdin",
     "output_type": "stream",
     "text": [
      "Please Enter The Number Of Classes Held: 700\n",
      "Please Enter The Number Of Classes attendended: 500\n",
      "Do You Have Any Medical Issue: no\n"
     ]
    },
    {
     "name": "stdout",
     "output_type": "stream",
     "text": [
      "Percentage of Attendance: 71.42857142857143\n",
      "Student Is Not Allowed To Sit In Exam\n"
     ]
    }
   ],
   "source": [
    "classes_held = int(input(\"Please Enter The Number Of Classes Held:\" ))\n",
    "classes_attended = int(input( \"Please Enter The Number Of Classes attendended:\"))\n",
    "student_medically_Cause = input(\"Do You Have Any Medical Issue:\" )\n",
    "percentage_of_attenden_classes = (classes_attended/classes_held)*100\n",
    "print(\"Percentage of Attendance:\",percentage_of_attenden_classes)\n",
    "if percentage_of_attenden_classes >= 75:\n",
    "    print(\"Student is allowed to sit in exam\")\n",
    "elif student_medically_Cause == \"y\":\n",
    "    print(\"Student is allowed to sit in exam\")\n",
    "else:\n",
    "    print(\"Student Is Not Allowed To Sit In Exam\")\n"
   ]
  },
  {
   "cell_type": "code",
   "execution_count": 30,
   "id": "c0215b6d-40e3-4016-8d08-58ee9ae4d7b6",
   "metadata": {},
   "outputs": [],
   "source": [
    "#  16-  Write a program to check if a year is leap year or not.\n",
    "#If a year is divisible by 4 then it is leap year but \n",
    "#if the year is century year like 2000, 1900, 2100 then it must be divisible by 400."
   ]
  },
  {
   "cell_type": "code",
   "execution_count": 35,
   "id": "dbdf4947-2c1f-463a-8cc1-768ba463f367",
   "metadata": {},
   "outputs": [
    {
     "name": "stdin",
     "output_type": "stream",
     "text": [
      "Please Enter The Year: 2024\n"
     ]
    },
    {
     "name": "stdout",
     "output_type": "stream",
     "text": [
      "This is a Leap Year\n"
     ]
    }
   ],
   "source": [
    "year = int(input(\"Please Enter The Year:\" ))\n",
    "if year % 4 ==0:\n",
    "    print (\"This is a Leap Year\")\n",
    "elif year % 400 == 0:\n",
    "    print (\"This is a Leap Year\")\n",
    "else:\n",
    "    print (\"This is not a Leap Year\")"
   ]
  },
  {
   "cell_type": "code",
   "execution_count": 37,
   "id": "3b182ac4-8458-417d-b2c7-f1833b6aa86b",
   "metadata": {},
   "outputs": [],
   "source": [
    "# 17-  Ask user to enter age, gender ( M or F ), marital status ( Y or N ) and then using following rules print their place of service.\n",
    "#if employee is female, then she will work only in urban areas.\n",
    "#if employee is a male and age is in between 20 to 40 then he may work in anywhere\n",
    "#if employee is male and age is in between 40 t0 60 then he will work in urban areas only.\n",
    "#And any other input of age should print \"ERROR\""
   ]
  },
  {
   "cell_type": "code",
   "execution_count": 19,
   "id": "26533487-5b9f-41d7-ae52-3b649a185411",
   "metadata": {},
   "outputs": [
    {
     "name": "stdin",
     "output_type": "stream",
     "text": [
      "Enter your age:  55\n",
      "Enter your gender (M or F):  F\n",
      "Enter your marital status (Y or N):  Y\n"
     ]
    },
    {
     "name": "stdout",
     "output_type": "stream",
     "text": [
      "Your place of service is: Urban areas only\n"
     ]
    }
   ],
   "source": [
    "age = int(input(\"Enter your age: \"))\n",
    "gender = input(\"Enter your gender (M or F): \")\n",
    "marital_status = input(\"Enter your marital status (Y or N): \")\n",
    "\n",
    "if gender.upper() == \"F\":\n",
    "  place_of_service = \"Urban areas only\"\n",
    "elif gender.upper() == \"M\":\n",
    "  if 20 <= age <= 40:\n",
    "    place_of_service = \"Anywhere\"\n",
    "  elif 40 <= age <= 60:\n",
    "    place_of_service = \"Urban areas only\"\n",
    "  else:\n",
    "    place_of_service = \"ERROR\"\n",
    "else:\n",
    "  place_of_service = \"ERROR\"\n",
    "print(\"Your place of service is:\", place_of_service)"
   ]
  },
  {
   "cell_type": "code",
   "execution_count": 48,
   "id": "175fe83e-9edc-4910-b42b-d6c4df7a1e6e",
   "metadata": {},
   "outputs": [],
   "source": [
    "# 6--- Write a program to calculate the electricity bill (accept number of unit from user) \n",
    "#according to the following criteria : Unit Price uptp 100 units no charge Next 200 units\n",
    "#Rs 5 per unit After 200 units Rs 10 per unit (For example if input unit is 350 than total bill amount is Rs.3500 \n",
    "#(For example if input unit is 97 than total bill amount is Rs.0 (For example if input unit is 150 than total bill amount is Rs.750\n"
   ]
  },
  {
   "cell_type": "code",
   "execution_count": 64,
   "id": "1a6c344d-b874-4d1e-ba02-b080c933b730",
   "metadata": {},
   "outputs": [
    {
     "name": "stdin",
     "output_type": "stream",
     "text": [
      "Please Enter Number of Units: 250\n"
     ]
    },
    {
     "name": "stdout",
     "output_type": "stream",
     "text": [
      "YOURS ELECTRICITY AMOUNT IS : 750\n"
     ]
    }
   ],
   "source": [
    "units = int(input( \"Please Enter Number of Units:\" ))\n",
    "if units <= 100:\n",
    "    bill_amount = 0\n",
    "elif units <= 300:    \n",
    "    bill_amount = 5*(units - 100)\n",
    "else:\n",
    "    bill_amount = 10*units\n",
    "print(\"YOURS ELECTRICITY AMOUNT IS :\", bill_amount)"
   ]
  },
  {
   "cell_type": "code",
   "execution_count": 65,
   "id": "a237e7ca-c769-4596-b1b3-ffcb7ed1a6ba",
   "metadata": {},
   "outputs": [],
   "source": [
    "# 13- Take input of age of 3 people by user and determine oldest and youngest among them."
   ]
  },
  {
   "cell_type": "code",
   "execution_count": 68,
   "id": "bd56ae50-55cb-41c2-ad0b-5196ce66b6d9",
   "metadata": {},
   "outputs": [
    {
     "name": "stdin",
     "output_type": "stream",
     "text": [
      "Enter the age of the first person:  23\n",
      "Enter the age of the second person:  32\n",
      "Enter the age of the third person:  78\n"
     ]
    },
    {
     "name": "stdout",
     "output_type": "stream",
     "text": [
      "The oldest person is 78 years old.\n",
      "The youngest person is 23 years old.\n"
     ]
    }
   ],
   "source": [
    "age1 = int(input(\"Enter the age of the first person: \"))\n",
    "age2 = int(input(\"Enter the age of the second person: \"))\n",
    "age3 = int(input(\"Enter the age of the third person: \"))\n",
    "oldest = max(age1, age2, age3)\n",
    "youngest = min(age1, age2, age3)\n",
    "print(\"The oldest person is\", oldest, \"years old.\")\n",
    "print(\"The youngest person is\", youngest, \"years old.\")"
   ]
  }
 ],
 "metadata": {
  "kernelspec": {
   "display_name": "Python 3 (ipykernel)",
   "language": "python",
   "name": "python3"
  },
  "language_info": {
   "codemirror_mode": {
    "name": "ipython",
    "version": 3
   },
   "file_extension": ".py",
   "mimetype": "text/x-python",
   "name": "python",
   "nbconvert_exporter": "python",
   "pygments_lexer": "ipython3",
   "version": "3.11.7"
  }
 },
 "nbformat": 4,
 "nbformat_minor": 5
}
